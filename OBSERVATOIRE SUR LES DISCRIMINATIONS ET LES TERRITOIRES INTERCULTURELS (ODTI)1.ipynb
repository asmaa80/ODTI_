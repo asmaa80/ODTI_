{
 "cells": [
  {
   "cell_type": "markdown",
   "id": "738fef38",
   "metadata": {},
   "source": [
    "# ODTI DÉPARTEMENTS"
   ]
  },
  {
   "cell_type": "markdown",
   "id": "6f3ffce8",
   "metadata": {},
   "source": [
    "### 1 Le Département de Logements\n"
   ]
  },
  {
   "cell_type": "markdown",
   "id": "6ce21533",
   "metadata": {},
   "source": [
    "<i> Les Residents en 2018:https://nbviewer.jupyter.org/github/asmaa80/ODTI-Logements/blob/main/Logements-2018.ipynb </i>\n"
   ]
  },
  {
   "cell_type": "markdown",
   "id": "74da97a8",
   "metadata": {},
   "source": [
    "<i>Les Residents en 2019: https://nbviewer.jupyter.org/github/asmaa80/ODTI_Departements/blob/main/Logements-2019.ipynb</i>"
   ]
  },
  {
   "cell_type": "markdown",
   "id": "a6d9888a",
   "metadata": {},
   "source": [
    "<i>Les Residents en 2020:https://nbviewer.jupyter.org/github/asmaa80/ODTI_Departements/blob/Logements/Logements__2020.ipynb </i>"
   ]
  },
  {
   "cell_type": "markdown",
   "id": "75b0a019",
   "metadata": {},
   "source": [
    "<i>Les Residents en 2018 , 2019 et 2020:https://nbviewer.jupyter.org/github/asmaa80/ODTI-/blob/main/Logements_total_en_2018_2019_2020.ipynb</i>"
   ]
  },
  {
   "cell_type": "markdown",
   "id": "123e7570",
   "metadata": {},
   "source": [
    "### 2 Le Département de Langue Française\n"
   ]
  },
  {
   "cell_type": "markdown",
   "id": "6e5150cf",
   "metadata": {},
   "source": [
    "<i>Langue Française en 2018 :https://nbviewer.jupyter.org/github/asmaa80/ODTI_Departements/blob/main/langue_nationalit%C3%A9-2018.ipynb</i>"
   ]
  },
  {
   "cell_type": "markdown",
   "id": "d183b9dc",
   "metadata": {},
   "source": [
    "<i>Langue Française en 2019: https://nbviewer.jupyter.org/github/asmaa80/ODTI_Departements/blob/Langue_Fran%C3%A7aise/langue_fran%C3%A7aise_2019.ipynb</i>"
   ]
  },
  {
   "cell_type": "markdown",
   "id": "f33c1865",
   "metadata": {},
   "source": [
    "<i>Langue Française en 2020: https://nbviewer.jupyter.org/github/asmaa80/odti/blob/main/langue_fran%C3%A7aise%202020.ipynb</i>"
   ]
  },
  {
   "cell_type": "markdown",
   "id": "a89e3640",
   "metadata": {},
   "source": [
    "<i>Langue Française en 2018 , 2019 et 2020: https://nbviewer.jupyter.org/github/asmaa80/odti/blob/main/atelier_de_langue.ipynb</i>"
   ]
  },
  {
   "cell_type": "markdown",
   "id": "b0670a77",
   "metadata": {},
   "source": [
    "### 3 Le Département de Soutien Psychologique\n"
   ]
  },
  {
   "cell_type": "markdown",
   "id": "0ac88c1c",
   "metadata": {},
   "source": [
    "<i>Soutien Psychologique en 2019 : https://nbviewer.jupyter.org/github/asmaa80/ODTI_Soutien-psychologique-/blob/main/Soutien_Psychologique_2019_.ipynb</i>"
   ]
  },
  {
   "cell_type": "markdown",
   "id": "3b8e5078",
   "metadata": {},
   "source": [
    "<i>Soutien Psychologique en 2020 : https://nbviewer.jupyter.org/github/asmaa80/Soutien_Psychologique_20/blob/main/Soutien_Psychologique_20.ipynb</i>"
   ]
  },
  {
   "cell_type": "markdown",
   "id": "d0d5a2f5",
   "metadata": {},
   "source": [
    "<i>Soutien Psychologique en 2019 et 2020 : https://nbviewer.jupyter.org/github/asmaa80/Soutien_psychologique_total_2019_2020/blob/main/Soutien_psychologique_total_2019_2020.ipynb</i>"
   ]
  },
  {
   "cell_type": "markdown",
   "id": "576bb6a5",
   "metadata": {},
   "source": [
    "### 4 Le Département de Juridique"
   ]
  },
  {
   "cell_type": "markdown",
   "id": "1e879bc3",
   "metadata": {},
   "source": [
    " <i>Demo-etran-ina-cho-desc-immig en 2020: https://nbviewer.jupyter.org/github/asmaa80/ODTI_Departements/blob/Logiciels/demo-etran-ina-cho-desc-immig-2020.ipynb</i>"
   ]
  },
  {
   "cell_type": "markdown",
   "id": "e24bd5fc",
   "metadata": {},
   "source": [
    "<i>Demo-etran-ina-cho-immig en 2020:https://nbviewer.jupyter.org/github/asmaa80/ODTI_logiciels/blob/main/demo-etran-ina-cho-immig-2020.ipynb</i>"
   ]
  },
  {
   "cell_type": "markdown",
   "id": "ba536a76",
   "metadata": {},
   "source": [
    "<i>Demo-etran-ina-cho-immig-et-desc-immig en 2020: https://nbviewer.jupyter.org/github/asmaa80/ODTI_logiciel_2020/blob/main/total.ipynb</i>"
   ]
  }
 ],
 "metadata": {
  "kernelspec": {
   "display_name": "Python 3",
   "language": "python",
   "name": "python3"
  },
  "language_info": {
   "codemirror_mode": {
    "name": "ipython",
    "version": 3
   },
   "file_extension": ".py",
   "mimetype": "text/x-python",
   "name": "python",
   "nbconvert_exporter": "python",
   "pygments_lexer": "ipython3",
   "version": "3.9.6"
  }
 },
 "nbformat": 4,
 "nbformat_minor": 5
}
